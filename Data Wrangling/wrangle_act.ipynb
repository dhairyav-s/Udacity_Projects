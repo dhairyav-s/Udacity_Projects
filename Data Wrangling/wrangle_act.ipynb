{
 "cells": [
  {
   "cell_type": "markdown",
   "metadata": {
    "colab_type": "text",
    "id": "jjx6lnSNqtZl"
   },
   "source": [
    "#Gathering Data"
   ]
  },
  {
   "cell_type": "code",
   "execution_count": 1,
   "metadata": {
    "colab": {},
    "colab_type": "code",
    "id": "BV--GYCkQnrU"
   },
   "outputs": [],
   "source": [
    "import pandas as pd\n",
    "import numpy as np\n",
    "import matplotlib.pyplot as plt\n",
    "%matplotlib inline\n",
    "import requests\n",
    "import tweepy \n",
    "import json\n",
    "import tweepy\n",
    "from tweepy import OAuthHandler\n",
    "from timeit import default_timer as timer\n"
   ]
  },
  {
   "cell_type": "code",
   "execution_count": 2,
   "metadata": {
    "colab": {
     "base_uri": "https://localhost:8080/",
     "height": 34
    },
    "colab_type": "code",
    "id": "3ZKyycdq4cA1",
    "outputId": "41b1f7ab-dd58-4941-a3c1-5bdd5d722c17"
   },
   "outputs": [
    {
     "data": {
      "text/plain": [
       "(2356, 17)"
      ]
     },
     "execution_count": 2,
     "metadata": {},
     "output_type": "execute_result"
    }
   ],
   "source": [
    "a = pd.read_csv(\"twitter-archive-enhanced.csv\")\n",
    "a.shape"
   ]
  },
  {
   "cell_type": "code",
   "execution_count": 3,
   "metadata": {
    "colab": {
     "base_uri": "https://localhost:8080/",
     "height": 102
    },
    "colab_type": "code",
    "id": "XKT88IGVqNwK",
    "outputId": "f5d3913b-dadc-4baf-a0d1-99e175a5a206"
   },
   "outputs": [
    {
     "data": {
      "text/plain": [
       "Index(['tweet_id', 'in_reply_to_status_id', 'in_reply_to_user_id', 'timestamp',\n",
       "       'source', 'text', 'retweeted_status_id', 'retweeted_status_user_id',\n",
       "       'retweeted_status_timestamp', 'expanded_urls', 'rating_numerator',\n",
       "       'rating_denominator', 'name', 'doggo', 'floofer', 'pupper', 'puppo'],\n",
       "      dtype='object')"
      ]
     },
     "execution_count": 3,
     "metadata": {},
     "output_type": "execute_result"
    }
   ],
   "source": [
    "a.columns"
   ]
  },
  {
   "cell_type": "code",
   "execution_count": 4,
   "metadata": {
    "colab": {
     "base_uri": "https://localhost:8080/",
     "height": 400
    },
    "colab_type": "code",
    "id": "4TEXHE5IqTBp",
    "outputId": "1bd38254-24c7-4533-d7cb-220618f85659"
   },
   "outputs": [
    {
     "data": {
      "text/html": [
       "<div>\n",
       "<style scoped>\n",
       "    .dataframe tbody tr th:only-of-type {\n",
       "        vertical-align: middle;\n",
       "    }\n",
       "\n",
       "    .dataframe tbody tr th {\n",
       "        vertical-align: top;\n",
       "    }\n",
       "\n",
       "    .dataframe thead th {\n",
       "        text-align: right;\n",
       "    }\n",
       "</style>\n",
       "<table border=\"1\" class=\"dataframe\">\n",
       "  <thead>\n",
       "    <tr style=\"text-align: right;\">\n",
       "      <th></th>\n",
       "      <th>tweet_id</th>\n",
       "      <th>in_reply_to_status_id</th>\n",
       "      <th>in_reply_to_user_id</th>\n",
       "      <th>timestamp</th>\n",
       "      <th>source</th>\n",
       "      <th>text</th>\n",
       "      <th>retweeted_status_id</th>\n",
       "      <th>retweeted_status_user_id</th>\n",
       "      <th>retweeted_status_timestamp</th>\n",
       "      <th>expanded_urls</th>\n",
       "      <th>rating_numerator</th>\n",
       "      <th>rating_denominator</th>\n",
       "      <th>name</th>\n",
       "      <th>doggo</th>\n",
       "      <th>floofer</th>\n",
       "      <th>pupper</th>\n",
       "      <th>puppo</th>\n",
       "    </tr>\n",
       "  </thead>\n",
       "  <tbody>\n",
       "    <tr>\n",
       "      <td>0</td>\n",
       "      <td>892420643555336193</td>\n",
       "      <td>NaN</td>\n",
       "      <td>NaN</td>\n",
       "      <td>2017-08-01 16:23:56 +0000</td>\n",
       "      <td>&lt;a href=\"http://twitter.com/download/iphone\" r...</td>\n",
       "      <td>This is Phineas. He's a mystical boy. Only eve...</td>\n",
       "      <td>NaN</td>\n",
       "      <td>NaN</td>\n",
       "      <td>NaN</td>\n",
       "      <td>https://twitter.com/dog_rates/status/892420643...</td>\n",
       "      <td>13</td>\n",
       "      <td>10</td>\n",
       "      <td>Phineas</td>\n",
       "      <td>None</td>\n",
       "      <td>None</td>\n",
       "      <td>None</td>\n",
       "      <td>None</td>\n",
       "    </tr>\n",
       "    <tr>\n",
       "      <td>1</td>\n",
       "      <td>892177421306343426</td>\n",
       "      <td>NaN</td>\n",
       "      <td>NaN</td>\n",
       "      <td>2017-08-01 00:17:27 +0000</td>\n",
       "      <td>&lt;a href=\"http://twitter.com/download/iphone\" r...</td>\n",
       "      <td>This is Tilly. She's just checking pup on you....</td>\n",
       "      <td>NaN</td>\n",
       "      <td>NaN</td>\n",
       "      <td>NaN</td>\n",
       "      <td>https://twitter.com/dog_rates/status/892177421...</td>\n",
       "      <td>13</td>\n",
       "      <td>10</td>\n",
       "      <td>Tilly</td>\n",
       "      <td>None</td>\n",
       "      <td>None</td>\n",
       "      <td>None</td>\n",
       "      <td>None</td>\n",
       "    </tr>\n",
       "    <tr>\n",
       "      <td>2</td>\n",
       "      <td>891815181378084864</td>\n",
       "      <td>NaN</td>\n",
       "      <td>NaN</td>\n",
       "      <td>2017-07-31 00:18:03 +0000</td>\n",
       "      <td>&lt;a href=\"http://twitter.com/download/iphone\" r...</td>\n",
       "      <td>This is Archie. He is a rare Norwegian Pouncin...</td>\n",
       "      <td>NaN</td>\n",
       "      <td>NaN</td>\n",
       "      <td>NaN</td>\n",
       "      <td>https://twitter.com/dog_rates/status/891815181...</td>\n",
       "      <td>12</td>\n",
       "      <td>10</td>\n",
       "      <td>Archie</td>\n",
       "      <td>None</td>\n",
       "      <td>None</td>\n",
       "      <td>None</td>\n",
       "      <td>None</td>\n",
       "    </tr>\n",
       "  </tbody>\n",
       "</table>\n",
       "</div>"
      ],
      "text/plain": [
       "             tweet_id  in_reply_to_status_id  in_reply_to_user_id  \\\n",
       "0  892420643555336193                    NaN                  NaN   \n",
       "1  892177421306343426                    NaN                  NaN   \n",
       "2  891815181378084864                    NaN                  NaN   \n",
       "\n",
       "                   timestamp  \\\n",
       "0  2017-08-01 16:23:56 +0000   \n",
       "1  2017-08-01 00:17:27 +0000   \n",
       "2  2017-07-31 00:18:03 +0000   \n",
       "\n",
       "                                              source  \\\n",
       "0  <a href=\"http://twitter.com/download/iphone\" r...   \n",
       "1  <a href=\"http://twitter.com/download/iphone\" r...   \n",
       "2  <a href=\"http://twitter.com/download/iphone\" r...   \n",
       "\n",
       "                                                text  retweeted_status_id  \\\n",
       "0  This is Phineas. He's a mystical boy. Only eve...                  NaN   \n",
       "1  This is Tilly. She's just checking pup on you....                  NaN   \n",
       "2  This is Archie. He is a rare Norwegian Pouncin...                  NaN   \n",
       "\n",
       "   retweeted_status_user_id retweeted_status_timestamp  \\\n",
       "0                       NaN                        NaN   \n",
       "1                       NaN                        NaN   \n",
       "2                       NaN                        NaN   \n",
       "\n",
       "                                       expanded_urls  rating_numerator  \\\n",
       "0  https://twitter.com/dog_rates/status/892420643...                13   \n",
       "1  https://twitter.com/dog_rates/status/892177421...                13   \n",
       "2  https://twitter.com/dog_rates/status/891815181...                12   \n",
       "\n",
       "   rating_denominator     name doggo floofer pupper puppo  \n",
       "0                  10  Phineas  None    None   None  None  \n",
       "1                  10    Tilly  None    None   None  None  \n",
       "2                  10   Archie  None    None   None  None  "
      ]
     },
     "execution_count": 4,
     "metadata": {},
     "output_type": "execute_result"
    }
   ],
   "source": [
    "a.head(3)"
   ]
  },
  {
   "cell_type": "code",
   "execution_count": 5,
   "metadata": {
    "colab": {
     "base_uri": "https://localhost:8080/",
     "height": 34
    },
    "colab_type": "code",
    "id": "0HITlqLrkdCH",
    "outputId": "53d4854e-92fa-478d-9eac-b097385a482b"
   },
   "outputs": [
    {
     "data": {
      "text/plain": [
       "(2075, 12)"
      ]
     },
     "execution_count": 5,
     "metadata": {},
     "output_type": "execute_result"
    }
   ],
   "source": [
    "url = \"https://d17h27t6h515a5.cloudfront.net/topher/2017/August/599fd2ad_image-predictions/image-predictions.tsv\"\n",
    "response = requests.get(url)\n",
    "\n",
    "with open('image-predictions.tsv', mode ='wb') as file:\n",
    "    file.write(response.content)\n",
    "\n",
    "b = pd.read_csv(\"image-predictions.tsv\", sep='\\t')\n",
    "b.shape"
   ]
  },
  {
   "cell_type": "code",
   "execution_count": 6,
   "metadata": {
    "colab": {
     "base_uri": "https://localhost:8080/",
     "height": 68
    },
    "colab_type": "code",
    "id": "tPbgtdrqqXnw",
    "outputId": "3c9373e4-1703-4c3e-8be2-bad73c200bb5"
   },
   "outputs": [
    {
     "data": {
      "text/plain": [
       "Index(['tweet_id', 'jpg_url', 'img_num', 'p1', 'p1_conf', 'p1_dog', 'p2',\n",
       "       'p2_conf', 'p2_dog', 'p3', 'p3_conf', 'p3_dog'],\n",
       "      dtype='object')"
      ]
     },
     "execution_count": 6,
     "metadata": {},
     "output_type": "execute_result"
    }
   ],
   "source": [
    "b.columns"
   ]
  },
  {
   "cell_type": "code",
   "execution_count": 7,
   "metadata": {
    "colab": {
     "base_uri": "https://localhost:8080/",
     "height": 162
    },
    "colab_type": "code",
    "id": "ROiN0_90qZNs",
    "outputId": "6f46d718-cf96-4820-c5b7-4e83d084628e"
   },
   "outputs": [
    {
     "data": {
      "text/html": [
       "<div>\n",
       "<style scoped>\n",
       "    .dataframe tbody tr th:only-of-type {\n",
       "        vertical-align: middle;\n",
       "    }\n",
       "\n",
       "    .dataframe tbody tr th {\n",
       "        vertical-align: top;\n",
       "    }\n",
       "\n",
       "    .dataframe thead th {\n",
       "        text-align: right;\n",
       "    }\n",
       "</style>\n",
       "<table border=\"1\" class=\"dataframe\">\n",
       "  <thead>\n",
       "    <tr style=\"text-align: right;\">\n",
       "      <th></th>\n",
       "      <th>tweet_id</th>\n",
       "      <th>jpg_url</th>\n",
       "      <th>img_num</th>\n",
       "      <th>p1</th>\n",
       "      <th>p1_conf</th>\n",
       "      <th>p1_dog</th>\n",
       "      <th>p2</th>\n",
       "      <th>p2_conf</th>\n",
       "      <th>p2_dog</th>\n",
       "      <th>p3</th>\n",
       "      <th>p3_conf</th>\n",
       "      <th>p3_dog</th>\n",
       "    </tr>\n",
       "  </thead>\n",
       "  <tbody>\n",
       "    <tr>\n",
       "      <td>0</td>\n",
       "      <td>666020888022790149</td>\n",
       "      <td>https://pbs.twimg.com/media/CT4udn0WwAA0aMy.jpg</td>\n",
       "      <td>1</td>\n",
       "      <td>Welsh_springer_spaniel</td>\n",
       "      <td>0.465074</td>\n",
       "      <td>True</td>\n",
       "      <td>collie</td>\n",
       "      <td>0.156665</td>\n",
       "      <td>True</td>\n",
       "      <td>Shetland_sheepdog</td>\n",
       "      <td>0.061428</td>\n",
       "      <td>True</td>\n",
       "    </tr>\n",
       "    <tr>\n",
       "      <td>1</td>\n",
       "      <td>666029285002620928</td>\n",
       "      <td>https://pbs.twimg.com/media/CT42GRgUYAA5iDo.jpg</td>\n",
       "      <td>1</td>\n",
       "      <td>redbone</td>\n",
       "      <td>0.506826</td>\n",
       "      <td>True</td>\n",
       "      <td>miniature_pinscher</td>\n",
       "      <td>0.074192</td>\n",
       "      <td>True</td>\n",
       "      <td>Rhodesian_ridgeback</td>\n",
       "      <td>0.072010</td>\n",
       "      <td>True</td>\n",
       "    </tr>\n",
       "    <tr>\n",
       "      <td>2</td>\n",
       "      <td>666033412701032449</td>\n",
       "      <td>https://pbs.twimg.com/media/CT4521TWwAEvMyu.jpg</td>\n",
       "      <td>1</td>\n",
       "      <td>German_shepherd</td>\n",
       "      <td>0.596461</td>\n",
       "      <td>True</td>\n",
       "      <td>malinois</td>\n",
       "      <td>0.138584</td>\n",
       "      <td>True</td>\n",
       "      <td>bloodhound</td>\n",
       "      <td>0.116197</td>\n",
       "      <td>True</td>\n",
       "    </tr>\n",
       "  </tbody>\n",
       "</table>\n",
       "</div>"
      ],
      "text/plain": [
       "             tweet_id                                          jpg_url  \\\n",
       "0  666020888022790149  https://pbs.twimg.com/media/CT4udn0WwAA0aMy.jpg   \n",
       "1  666029285002620928  https://pbs.twimg.com/media/CT42GRgUYAA5iDo.jpg   \n",
       "2  666033412701032449  https://pbs.twimg.com/media/CT4521TWwAEvMyu.jpg   \n",
       "\n",
       "   img_num                      p1   p1_conf  p1_dog                  p2  \\\n",
       "0        1  Welsh_springer_spaniel  0.465074    True              collie   \n",
       "1        1                 redbone  0.506826    True  miniature_pinscher   \n",
       "2        1         German_shepherd  0.596461    True            malinois   \n",
       "\n",
       "    p2_conf  p2_dog                   p3   p3_conf  p3_dog  \n",
       "0  0.156665    True    Shetland_sheepdog  0.061428    True  \n",
       "1  0.074192    True  Rhodesian_ridgeback  0.072010    True  \n",
       "2  0.138584    True           bloodhound  0.116197    True  "
      ]
     },
     "execution_count": 7,
     "metadata": {},
     "output_type": "execute_result"
    }
   ],
   "source": [
    "b.head(3)"
   ]
  },
  {
   "cell_type": "code",
   "execution_count": 8,
   "metadata": {
    "colab": {},
    "colab_type": "code",
    "id": "vb0HGo585HDJ"
   },
   "outputs": [
    {
     "ename": "NameError",
     "evalue": "name 'df_1' is not defined",
     "output_type": "error",
     "traceback": [
      "\u001b[1;31m---------------------------------------------------------------------------\u001b[0m",
      "\u001b[1;31mNameError\u001b[0m                                 Traceback (most recent call last)",
      "\u001b[1;32m<ipython-input-8-8723d8f2c4bc>\u001b[0m in \u001b[0;36m<module>\u001b[1;34m\u001b[0m\n\u001b[0;32m     22\u001b[0m \u001b[1;31m# Twitter API code was sent to this student from a Udacity instructor\u001b[0m\u001b[1;33m\u001b[0m\u001b[1;33m\u001b[0m\u001b[1;33m\u001b[0m\u001b[0m\n\u001b[0;32m     23\u001b[0m \u001b[1;31m# Tweet IDs for which to gather additional data via Twitter's API\u001b[0m\u001b[1;33m\u001b[0m\u001b[1;33m\u001b[0m\u001b[1;33m\u001b[0m\u001b[0m\n\u001b[1;32m---> 24\u001b[1;33m \u001b[0mtweet_ids\u001b[0m \u001b[1;33m=\u001b[0m \u001b[0mdf_1\u001b[0m\u001b[1;33m.\u001b[0m\u001b[0mtweet_id\u001b[0m\u001b[1;33m.\u001b[0m\u001b[0mvalues\u001b[0m\u001b[1;33m\u001b[0m\u001b[1;33m\u001b[0m\u001b[0m\n\u001b[0m\u001b[0;32m     25\u001b[0m \u001b[0mlen\u001b[0m\u001b[1;33m(\u001b[0m\u001b[0mtweet_ids\u001b[0m\u001b[1;33m)\u001b[0m\u001b[1;33m\u001b[0m\u001b[1;33m\u001b[0m\u001b[0m\n\u001b[0;32m     26\u001b[0m \u001b[1;33m\u001b[0m\u001b[0m\n",
      "\u001b[1;31mNameError\u001b[0m: name 'df_1' is not defined"
     ]
    }
   ],
   "source": [
    "import tweepy\n",
    "from tweepy import OAuthHandler\n",
    "import json\n",
    "from timeit import default_timer as timer\n",
    "\n",
    "# Query Twitter API for each tweet in the Twitter archive and save JSON in a text file\n",
    "# These are hidden to comply with Twitter's API terms and conditions\n",
    "consumer_key = 'HIDDEN'\n",
    "consumer_secret = 'HIDDEN'\n",
    "access_token = 'HIDDEN'\n",
    "access_secret = 'HIDDEN'\n",
    "\n",
    "auth = OAuthHandler(consumer_key, consumer_secret)\n",
    "auth.set_access_token(access_token, access_secret)\n",
    "\n",
    "api = tweepy.API(auth, wait_on_rate_limit=True)\n",
    "\n",
    "# NOTE TO STUDENT WITH MOBILE VERIFICATION ISSUES:\n",
    "# df_1 is a DataFrame with the twitter_archive_enhanced.csv file. You may have to\n",
    "# change line 17 to match the name of your DataFrame with twitter_archive_enhanced.csv\n",
    "# NOTE TO REVIEWER: this student had mobile verification issues so the following\n",
    "# Twitter API code was sent to this student from a Udacity instructor\n",
    "# Tweet IDs for which to gather additional data via Twitter's API\n",
    "tweet_ids = df_1.tweet_id.values\n",
    "len(tweet_ids)\n",
    "\n",
    "# Query Twitter's API for JSON data for each tweet ID in the Twitter archive\n",
    "count = 0\n",
    "fails_dict = {}\n",
    "start = timer()\n",
    "# Save each tweet's returned JSON as a new line in a .txt file\n",
    "with open('tweet_json.txt', 'w') as outfile:\n",
    "    # This loop will likely take 20-30 minutes to run because of Twitter's rate limit\n",
    "    for tweet_id in tweet_ids:\n",
    "        count += 1\n",
    "        print(str(count) + \": \" + str(tweet_id))\n",
    "        try:\n",
    "            tweet = api.get_status(tweet_id, tweet_mode='extended')\n",
    "            print(\"Success\")\n",
    "            json.dump(tweet._json, outfile)\n",
    "            outfile.write('\\n')\n",
    "        except tweepy.TweepError as e:\n",
    "            print(\"Fail\")\n",
    "            fails_dict[tweet_id] = e\n",
    "            pass\n",
    "end = timer()\n",
    "print(end - start)\n",
    "print(fails_dict)"
   ]
  },
  {
   "cell_type": "code",
   "execution_count": null,
   "metadata": {
    "colab": {
     "base_uri": "https://localhost:8080/",
     "height": 187
    },
    "colab_type": "code",
    "id": "N99rrvThlbyF",
    "outputId": "30f780ae-d1cb-40f0-de2b-85babfe3b63d"
   },
   "outputs": [],
   "source": [
    "d = pd.read_json(\"tweet-json.txt\", orient = 'records', lines = True)\n",
    "d.columns"
   ]
  },
  {
   "cell_type": "code",
   "execution_count": null,
   "metadata": {
    "colab": {
     "base_uri": "https://localhost:8080/",
     "height": 34
    },
    "colab_type": "code",
    "id": "JVcMVDStoG5p",
    "outputId": "1ea43974-ebdb-4eda-f2aa-3c724ee49e6c"
   },
   "outputs": [],
   "source": [
    "c= d[[\"id\", \"retweet_count\", \"favorite_count\"]].copy()\n",
    "c= c.rename(columns={\"id\": \"tweet_id\"})\n",
    "c.shape"
   ]
  },
  {
   "cell_type": "code",
   "execution_count": null,
   "metadata": {
    "colab": {
     "base_uri": "https://localhost:8080/",
     "height": 142
    },
    "colab_type": "code",
    "id": "Wokwwp8upcAx",
    "outputId": "baa67c00-5d0b-4405-ba5d-3597c8e16b47"
   },
   "outputs": [],
   "source": [
    "c.head(3)"
   ]
  },
  {
   "cell_type": "markdown",
   "metadata": {
    "colab_type": "text",
    "id": "Z7IsoYtWqqyb"
   },
   "source": [
    "#Assessing Data"
   ]
  },
  {
   "cell_type": "markdown",
   "metadata": {
    "colab_type": "text",
    "id": "FcSLLFKQ8l5W"
   },
   "source": [
    "Copying the original datasets"
   ]
  },
  {
   "cell_type": "code",
   "execution_count": null,
   "metadata": {
    "colab": {},
    "colab_type": "code",
    "id": "5z89F2wP8qIE"
   },
   "outputs": [],
   "source": [
    "a_clean = a.copy()\n",
    "b_clean = b.copy()\n",
    "c_clean = c.copy()"
   ]
  },
  {
   "cell_type": "markdown",
   "metadata": {
    "colab_type": "text",
    "id": "KrMydwEKd2VU"
   },
   "source": [
    "**1) All the three datasets should be merged** (Tidiness Issue)"
   ]
  },
  {
   "cell_type": "code",
   "execution_count": null,
   "metadata": {
    "colab": {
     "base_uri": "https://localhost:8080/",
     "height": 153
    },
    "colab_type": "code",
    "id": "julceW91q5vR",
    "outputId": "9f7cb672-05d1-4b6d-dcd4-82124bf10156"
   },
   "outputs": [],
   "source": [
    "df = b.merge(a, on='tweet_id', how='inner').merge(c, on='tweet_id', how='inner')\n",
    "df.columns"
   ]
  },
  {
   "cell_type": "markdown",
   "metadata": {
    "colab_type": "text",
    "id": "dsx1pNNx7yhH"
   },
   "source": [
    "Copying the original dataset"
   ]
  },
  {
   "cell_type": "code",
   "execution_count": null,
   "metadata": {
    "colab": {},
    "colab_type": "code",
    "id": "KuLq4jZb7xbk"
   },
   "outputs": [],
   "source": [
    "df_clean = df.copy()"
   ]
  },
  {
   "cell_type": "markdown",
   "metadata": {
    "colab_type": "text",
    "id": "_cHNDLZXeBYn"
   },
   "source": [
    "Check if there are any  duplicates, drop duplicate rows if they exist"
   ]
  },
  {
   "cell_type": "code",
   "execution_count": null,
   "metadata": {
    "colab": {
     "base_uri": "https://localhost:8080/",
     "height": 34
    },
    "colab_type": "code",
    "id": "wRsKBcSYHny2",
    "outputId": "6321d111-112a-4641-aad4-a89310d6c6f3"
   },
   "outputs": [],
   "source": [
    "sum(df.duplicated())"
   ]
  },
  {
   "cell_type": "markdown",
   "metadata": {
    "colab_type": "text",
    "id": "e8e_t5M_lbfD"
   },
   "source": [
    "Assessing each Variable"
   ]
  },
  {
   "cell_type": "markdown",
   "metadata": {
    "colab_type": "text",
    "id": "Mwpe63AQlhrx"
   },
   "source": [
    "*Variable 'tweet_id'*"
   ]
  },
  {
   "cell_type": "code",
   "execution_count": null,
   "metadata": {
    "colab": {
     "base_uri": "https://localhost:8080/",
     "height": 51
    },
    "colab_type": "code",
    "id": "Dm74c9oMlpLV",
    "outputId": "1c449dc2-0c7c-4b54-941a-8571e4fd8a8b"
   },
   "outputs": [],
   "source": [
    "df.tweet_id.unique()"
   ]
  },
  {
   "cell_type": "markdown",
   "metadata": {
    "colab_type": "text",
    "id": "8P8DbZmilukO"
   },
   "source": [
    "Inference:\n",
    "* It contains all the unique ids of each tweet in the appropriate data type"
   ]
  },
  {
   "cell_type": "markdown",
   "metadata": {
    "colab_type": "text",
    "id": "7sqg1oDbmBRx"
   },
   "source": [
    "*Variable jpg_url*"
   ]
  },
  {
   "cell_type": "code",
   "execution_count": null,
   "metadata": {
    "colab": {
     "base_uri": "https://localhost:8080/",
     "height": 119
    },
    "colab_type": "code",
    "id": "K48zcHLumHF-",
    "outputId": "4634282f-ce0c-4c17-d85e-b1b43d158dc4"
   },
   "outputs": [],
   "source": [
    "df.jpg_url.unique()"
   ]
  },
  {
   "cell_type": "markdown",
   "metadata": {
    "colab_type": "text",
    "id": "sxwRfXwSmJpP"
   },
   "source": [
    "Inference:\n",
    "* It contains all the unique urls of images of each tweet in the appropriate data type"
   ]
  },
  {
   "cell_type": "markdown",
   "metadata": {
    "colab_type": "text",
    "id": "XloYp4WYmZdH"
   },
   "source": [
    "*Variable img_num*"
   ]
  },
  {
   "cell_type": "code",
   "execution_count": null,
   "metadata": {
    "colab": {
     "base_uri": "https://localhost:8080/",
     "height": 102
    },
    "colab_type": "code",
    "id": "7WHZZXaUmjXT",
    "outputId": "8619edb3-5e45-4171-dabb-a76ca8271431"
   },
   "outputs": [],
   "source": [
    "df.img_num.value_counts()"
   ]
  },
  {
   "cell_type": "markdown",
   "metadata": {
    "colab_type": "text",
    "id": "ZFK9ipxhnBpb"
   },
   "source": [
    "Inference:\n",
    "* It contains the image number that corresponded to the most confident prediction (numbered 1 to 4 since tweets can have up to four images) in the appropriate datatype\n",
    "* The column name could be renamed so it is understood better"
   ]
  },
  {
   "cell_type": "markdown",
   "metadata": {
    "colab_type": "text",
    "id": "8paSmauJmmGD"
   },
   "source": [
    "*Variable p1*"
   ]
  },
  {
   "cell_type": "code",
   "execution_count": null,
   "metadata": {
    "colab": {
     "base_uri": "https://localhost:8080/",
     "height": 1000
    },
    "colab_type": "code",
    "id": "tdorqKMonyI4",
    "outputId": "f72311a5-ec55-4320-d542-9f5ade986878"
   },
   "outputs": [],
   "source": [
    "df.p1.unique()"
   ]
  },
  {
   "cell_type": "markdown",
   "metadata": {
    "colab_type": "text",
    "id": "FNCntMr0oDxI"
   },
   "source": [
    "Inference:\n",
    "* It contains the algorithm's #1 prediction for the image in the tweet\n",
    "* The contains values like 'hen', 'ox' 'desktop computer' which aren't breeds of dogs and could be removed for higher accuracy"
   ]
  },
  {
   "cell_type": "markdown",
   "metadata": {
    "colab_type": "text",
    "id": "n3blrknqonF0"
   },
   "source": [
    "*Variable 'p1_conf'*"
   ]
  },
  {
   "cell_type": "code",
   "execution_count": null,
   "metadata": {
    "colab": {
     "base_uri": "https://localhost:8080/",
     "height": 51
    },
    "colab_type": "code",
    "id": "bDZFziCVov1X",
    "outputId": "208452eb-8eef-4bf8-db53-c7bafef47bb3"
   },
   "outputs": [],
   "source": [
    "df.p1_conf.unique()"
   ]
  },
  {
   "cell_type": "markdown",
   "metadata": {
    "colab_type": "text",
    "id": "XqmXWdTmo-kz"
   },
   "source": [
    "Inference:\n",
    "* It shows how confident the algorithm is in its #1 prediction\n",
    "* The column is in the appropriate datatype, float"
   ]
  },
  {
   "cell_type": "markdown",
   "metadata": {
    "colab_type": "text",
    "id": "0A7EpAccpNQG"
   },
   "source": [
    "*Variable 'p1_dog'*"
   ]
  },
  {
   "cell_type": "code",
   "execution_count": null,
   "metadata": {
    "colab": {
     "base_uri": "https://localhost:8080/",
     "height": 221
    },
    "colab_type": "code",
    "id": "FVrL0XUqpWIA",
    "outputId": "0f3d9e17-1ffb-4f09-838a-37d503fac308"
   },
   "outputs": [],
   "source": [
    "df.p1_dog.unique"
   ]
  },
  {
   "cell_type": "markdown",
   "metadata": {
    "colab_type": "text",
    "id": "cEyeY7S9pYzk"
   },
   "source": [
    "Inference:\n",
    "* It shows whether or not the #1 prediction is a breed of dog\n",
    "* The column is in the appropriate datatype, boolean"
   ]
  },
  {
   "cell_type": "markdown",
   "metadata": {
    "colab_type": "text",
    "id": "XTH6H7BTpt0U"
   },
   "source": [
    "Similar inference follow for variables 'p2', 'p2_conf', 'p2_dog', 'p3', 'p3_conf', 'p3_dog' as above since they're derived by the same method"
   ]
  },
  {
   "cell_type": "markdown",
   "metadata": {
    "colab_type": "text",
    "id": "DLCgJV6Wqghh"
   },
   "source": [
    "*Variable 'in_reply_to_status_id'*"
   ]
  },
  {
   "cell_type": "code",
   "execution_count": null,
   "metadata": {
    "colab": {
     "base_uri": "https://localhost:8080/",
     "height": 119
    },
    "colab_type": "code",
    "id": "RtV2GIBSqpHD",
    "outputId": "156a064b-c825-4a91-b4cf-2379b279aa78"
   },
   "outputs": [],
   "source": [
    "df.in_reply_to_status_id.unique()"
   ]
  },
  {
   "cell_type": "markdown",
   "metadata": {
    "colab_type": "text",
    "id": "gfStahC2qrCU"
   },
   "source": [
    "Inference:\n",
    "* It shows numerical value when the row is a reply to a tweet and nan value otherwise.\n",
    "* Since, we want only original tweets, we should drop rows which are replies to tweets"
   ]
  },
  {
   "cell_type": "markdown",
   "metadata": {
    "colab_type": "text",
    "id": "-iUCSJnpsBmA"
   },
   "source": [
    "*Variable 'in_reply_to_user_id'*"
   ]
  },
  {
   "cell_type": "code",
   "execution_count": null,
   "metadata": {
    "colab": {
     "base_uri": "https://localhost:8080/",
     "height": 34
    },
    "colab_type": "code",
    "id": "yYFncYDlsCM3",
    "outputId": "a1d00256-0842-411d-c367-23aa5fbd5b4b"
   },
   "outputs": [],
   "source": [
    "df.in_reply_to_user_id.unique()"
   ]
  },
  {
   "cell_type": "markdown",
   "metadata": {
    "colab_type": "text",
    "id": "wurUgW3xsCnA"
   },
   "source": [
    "Inference:\n",
    "* It shows numerical value when the row is a reply to a tweet and nan value otherwise.\n",
    "* Since, we want only original tweets, we should drop rows which are replies to tweets"
   ]
  },
  {
   "cell_type": "markdown",
   "metadata": {
    "colab_type": "text",
    "id": "a_gt-_X_sRQM"
   },
   "source": [
    "*Variable 'timestamp'*"
   ]
  },
  {
   "cell_type": "code",
   "execution_count": null,
   "metadata": {
    "colab": {
     "base_uri": "https://localhost:8080/",
     "height": 85
    },
    "colab_type": "code",
    "id": "nC58FJEqsefL",
    "outputId": "04684f18-9425-4481-9c81-eca50d92652a"
   },
   "outputs": [],
   "source": [
    "df.timestamp.unique()"
   ]
  },
  {
   "cell_type": "markdown",
   "metadata": {
    "colab_type": "text",
    "id": "4dOkbqxYsp5l"
   },
   "source": [
    "Inference:\n",
    "* It shows the time of the tweet.\n",
    "* The format of data is object whereas it should be datatime format."
   ]
  },
  {
   "cell_type": "markdown",
   "metadata": {
    "colab_type": "text",
    "id": "2udo-H8As5OU"
   },
   "source": [
    "*Variable 'source'*"
   ]
  },
  {
   "cell_type": "code",
   "execution_count": null,
   "metadata": {
    "colab": {
     "base_uri": "https://localhost:8080/",
     "height": 85
    },
    "colab_type": "code",
    "id": "QrZ41utDsjfK",
    "outputId": "c253b45e-ebe8-497a-e207-304ba231af95"
   },
   "outputs": [],
   "source": [
    "df.source.unique()"
   ]
  },
  {
   "cell_type": "markdown",
   "metadata": {
    "colab_type": "text",
    "id": "sfF6Y0aWv7qf"
   },
   "source": [
    "Inference:\n",
    "* It shows source of the tweet\n",
    "* The datatype is in the appropriate format of object"
   ]
  },
  {
   "cell_type": "markdown",
   "metadata": {
    "colab_type": "text",
    "id": "o8ehvXEUxlDH"
   },
   "source": [
    "*Variable 'text'*"
   ]
  },
  {
   "cell_type": "code",
   "execution_count": null,
   "metadata": {
    "colab": {
     "base_uri": "https://localhost:8080/",
     "height": 173
    },
    "colab_type": "code",
    "id": "9pFTv-lexlmn",
    "outputId": "8223c063-f5ee-42e2-88b1-c77a95073f79"
   },
   "outputs": [],
   "source": [
    "df.text.unique()"
   ]
  },
  {
   "cell_type": "markdown",
   "metadata": {
    "colab_type": "text",
    "id": "I8jfgePAxmMm"
   },
   "source": [
    "Inference:\n",
    "* It shows text of the tweet\n",
    "* The datatype is in the appropriate format of object\n",
    "* The name of the dog, gender of the dog can be extracted from this column"
   ]
  },
  {
   "cell_type": "markdown",
   "metadata": {
    "colab_type": "text",
    "id": "mwLNzLlI1K30"
   },
   "source": [
    "*Variable 'retweeted_status_id'*"
   ]
  },
  {
   "cell_type": "code",
   "execution_count": null,
   "metadata": {
    "colab": {
     "base_uri": "https://localhost:8080/",
     "height": 357
    },
    "colab_type": "code",
    "id": "WO_Wq1qh1KAF",
    "outputId": "634d0fc5-70f9-4f69-ae59-fce178c83379"
   },
   "outputs": [],
   "source": [
    "df.retweeted_status_id.unique()"
   ]
  },
  {
   "cell_type": "markdown",
   "metadata": {
    "colab_type": "text",
    "id": "Q6mfX9NR1LnT"
   },
   "source": [
    "Inference:\n",
    "* It shows numerical value when the row is a retweet and nan value otherwise.\n",
    "* Since, we want only original tweets, we should drop rows which are retweets"
   ]
  },
  {
   "cell_type": "markdown",
   "metadata": {
    "colab_type": "text",
    "id": "iWL98_uC2Xo0"
   },
   "source": [
    "*Variable 'retweeted_status_user_id'*"
   ]
  },
  {
   "cell_type": "code",
   "execution_count": null,
   "metadata": {
    "colab": {
     "base_uri": "https://localhost:8080/",
     "height": 85
    },
    "colab_type": "code",
    "id": "EBHEzUaJ2ZEy",
    "outputId": "bdf3d5e8-9e2f-4b7a-9d54-e22d3cb5d3eb"
   },
   "outputs": [],
   "source": [
    "df.retweeted_status_user_id.unique()"
   ]
  },
  {
   "cell_type": "markdown",
   "metadata": {
    "colab_type": "text",
    "id": "3YxfAQkM2Z4f"
   },
   "source": [
    "Inference:\n",
    "* It shows numerical value of the user's id when the row is a retweet and nan value otherwise.\n",
    "* Since, we want only original tweets, we should drop rows which are retweets"
   ]
  },
  {
   "cell_type": "markdown",
   "metadata": {
    "colab_type": "text",
    "id": "eZ-XPg2V2eCa"
   },
   "source": [
    "*Variable 'retweeted_status_timestamp'*"
   ]
  },
  {
   "cell_type": "code",
   "execution_count": null,
   "metadata": {
    "colab": {
     "base_uri": "https://localhost:8080/",
     "height": 697
    },
    "colab_type": "code",
    "id": "dB72t6o12fQL",
    "outputId": "41c257e0-1c5e-424a-c73f-26cb32e6757c"
   },
   "outputs": [],
   "source": [
    "df.retweeted_status_timestamp.unique()"
   ]
  },
  {
   "cell_type": "markdown",
   "metadata": {
    "colab_type": "text",
    "id": "KRlUnhGC2f6x"
   },
   "source": [
    "Inference:\n",
    "* It shows timestamp of tweet when the row is a retweet and nan value otherwise.\n",
    "* Since, we want only original tweets, we should drop rows which are retweets"
   ]
  },
  {
   "cell_type": "markdown",
   "metadata": {
    "colab_type": "text",
    "id": "Odn6JutD2jzJ"
   },
   "source": [
    "*Variable 'expanded_urls'*"
   ]
  },
  {
   "cell_type": "code",
   "execution_count": null,
   "metadata": {
    "colab": {
     "base_uri": "https://localhost:8080/",
     "height": 153
    },
    "colab_type": "code",
    "id": "e31Zw-tS2kYS",
    "outputId": "2d33fc7d-3cf2-4416-881f-d9a6c81fdac6"
   },
   "outputs": [],
   "source": [
    "df.expanded_urls.unique()"
   ]
  },
  {
   "cell_type": "markdown",
   "metadata": {
    "colab_type": "text",
    "id": "Ypy0Q0l52k87"
   },
   "source": [
    "Inference:\n",
    "* It shows the expanded urls in the tweet\n",
    "* The datatype of this column is appropriate, object"
   ]
  },
  {
   "cell_type": "markdown",
   "metadata": {
    "colab_type": "text",
    "id": "YVpSsWV42nGX"
   },
   "source": [
    "Variable 'rating_numerator'"
   ]
  },
  {
   "cell_type": "code",
   "execution_count": null,
   "metadata": {
    "colab": {
     "base_uri": "https://localhost:8080/",
     "height": 85
    },
    "colab_type": "code",
    "id": "l-JaHr1N433o",
    "outputId": "1e8d4b77-89ea-4642-886f-43cdfc66a946"
   },
   "outputs": [],
   "source": [
    "df.rating_numerator.unique()"
   ]
  },
  {
   "cell_type": "markdown",
   "metadata": {
    "colab_type": "text",
    "id": "I70Ig15-48t2"
   },
   "source": [
    "Inference:\n",
    "* It shows the dog's rating out of 10\n",
    "\n",
    "* Some of the ratings are 0 or below 10 which is against the\n",
    "unique rating system of WeRateDogs where the rating numerators are greater than the denominators.\n",
    "\n",
    "* Thus, the rows having lesser ratings could be dropped."
   ]
  },
  {
   "cell_type": "markdown",
   "metadata": {
    "colab_type": "text",
    "id": "XteUbg8258PP"
   },
   "source": [
    "*Variable 'rating_denominator'*"
   ]
  },
  {
   "cell_type": "code",
   "execution_count": null,
   "metadata": {
    "colab": {
     "base_uri": "https://localhost:8080/",
     "height": 289
    },
    "colab_type": "code",
    "id": "EhZoopRG6H8y",
    "outputId": "90de44b7-53dc-4d7b-c052-802c83e571bb"
   },
   "outputs": [],
   "source": [
    "df.rating_denominator.value_counts()"
   ]
  },
  {
   "cell_type": "markdown",
   "metadata": {
    "colab_type": "text",
    "id": "mBJhsgje6G4-"
   },
   "source": [
    "Inference:\n",
    "* It shows the denominator of the dog's rating\n",
    "\n",
    "* Some of the ratings less than or more than 10 which is against the unique rating system of WeRateDogs where the dogs are rated out of 10.\n",
    "\n",
    "* Thus, the rows having inaccurate data could be dropped.\n",
    "* After which, since the column has just 1 value of 10 and doesn't provide a lot of different information, it could be dropped as well"
   ]
  },
  {
   "cell_type": "markdown",
   "metadata": {
    "colab_type": "text",
    "id": "OtCnL3CN-iPw"
   },
   "source": [
    "*Variable 'name'*"
   ]
  },
  {
   "cell_type": "code",
   "execution_count": null,
   "metadata": {
    "colab": {
     "base_uri": "https://localhost:8080/",
     "height": 1000
    },
    "colab_type": "code",
    "id": "QitZJoi4_SAi",
    "outputId": "c32e4bfd-9d27-456f-c036-7be712a6dd52"
   },
   "outputs": [],
   "source": [
    "df.name.unique()"
   ]
  },
  {
   "cell_type": "markdown",
   "metadata": {
    "colab_type": "text",
    "id": "0OXZUhtI_dJ0"
   },
   "source": [
    "Inference:\n",
    "* It shows the names of the dogs\n",
    "\n",
    "* The datatype of this column is appropriate\n",
    "\n",
    "* However, it contains names like 'a' , 'an' , 'the' , 'my', 'quite' , 'by', 'all', 'just', 'his' which are erroneous\n",
    "* It shoul be noted that all the names which are inaccrate start with small alphabets while all the names which are correct start with capital letters\n",
    "*Thus all values which do not start with capital letters shold be dropped."
   ]
  },
  {
   "cell_type": "markdown",
   "metadata": {
    "colab_type": "text",
    "id": "fJZ8A3JgBYvR"
   },
   "source": [
    "*Variable 'doggo'*"
   ]
  },
  {
   "cell_type": "code",
   "execution_count": null,
   "metadata": {
    "colab": {
     "base_uri": "https://localhost:8080/",
     "height": 34
    },
    "colab_type": "code",
    "id": "xPB55bbnBosN",
    "outputId": "151ce675-41d6-459e-da2b-af07755dd60e"
   },
   "outputs": [],
   "source": [
    "df.doggo.unique()"
   ]
  },
  {
   "cell_type": "markdown",
   "metadata": {
    "colab_type": "text",
    "id": "QppWRJQOBtPB"
   },
   "source": [
    "Inference:\n",
    "* It shows the lifecycle stage in which the dog is\n",
    "\n",
    "* The datatype of this column is appropriate"
   ]
  },
  {
   "cell_type": "markdown",
   "metadata": {
    "colab_type": "text",
    "id": "6zjUQO6rCBWY"
   },
   "source": [
    "*Variable 'floofer'*"
   ]
  },
  {
   "cell_type": "code",
   "execution_count": null,
   "metadata": {
    "colab": {
     "base_uri": "https://localhost:8080/",
     "height": 34
    },
    "colab_type": "code",
    "id": "M4yH0QsyCB3G",
    "outputId": "1e89aa31-5bd6-4732-8bf8-3f0cb3636c8a"
   },
   "outputs": [],
   "source": [
    "df.floofer.unique()"
   ]
  },
  {
   "cell_type": "markdown",
   "metadata": {
    "colab_type": "text",
    "id": "jPb3oD0fCCUc"
   },
   "source": [
    "Inference:\n",
    "* It shows the lifecycle stage in which the dog is\n",
    "\n",
    "* The datatype of this column is appropriate"
   ]
  },
  {
   "cell_type": "markdown",
   "metadata": {
    "colab_type": "text",
    "id": "MAbA51O0CGnv"
   },
   "source": [
    "*Variable 'pupper'*"
   ]
  },
  {
   "cell_type": "code",
   "execution_count": null,
   "metadata": {
    "colab": {
     "base_uri": "https://localhost:8080/",
     "height": 34
    },
    "colab_type": "code",
    "id": "bNWyIe0cCHS9",
    "outputId": "a1d358c8-3ceb-4ab8-b28a-37374fa2b3e4"
   },
   "outputs": [],
   "source": [
    "df.pupper.unique()"
   ]
  },
  {
   "cell_type": "markdown",
   "metadata": {
    "colab_type": "text",
    "id": "ZEAnps4cCH2u"
   },
   "source": [
    "Inference:\n",
    "* It shows the lifecycle stage in which the dog is\n",
    "\n",
    "* The datatype of this column is appropriate"
   ]
  },
  {
   "cell_type": "markdown",
   "metadata": {
    "colab_type": "text",
    "id": "zwgjNg2DCKD2"
   },
   "source": [
    "*Variable 'puppo'*"
   ]
  },
  {
   "cell_type": "code",
   "execution_count": null,
   "metadata": {
    "colab": {
     "base_uri": "https://localhost:8080/",
     "height": 34
    },
    "colab_type": "code",
    "id": "QosUzdAhCKfm",
    "outputId": "30ac9588-49f5-4b93-8054-25f6e7b129ae"
   },
   "outputs": [],
   "source": [
    "df.puppo.unique()"
   ]
  },
  {
   "cell_type": "markdown",
   "metadata": {
    "colab_type": "text",
    "id": "xpskcErkCLAQ"
   },
   "source": [
    "Inference:\n",
    "* It shows the lifecycle stage in which the dog is\n",
    "\n",
    "* The datatype of this column is appropriate"
   ]
  },
  {
   "cell_type": "markdown",
   "metadata": {
    "colab_type": "text",
    "id": "69bZUur6CNUO"
   },
   "source": [
    "Inference:\n",
    "* Since all 4 columns, doggo, floofer, pupper, puppo represent the same thing, the lifecycle of the dog, they can be combined into a single column, namely, 'Life_Cycle'"
   ]
  },
  {
   "cell_type": "markdown",
   "metadata": {
    "colab_type": "text",
    "id": "I3Il5IAIDiMS"
   },
   "source": [
    "*Variable 'retweet_count'*"
   ]
  },
  {
   "cell_type": "code",
   "execution_count": null,
   "metadata": {
    "colab": {
     "base_uri": "https://localhost:8080/",
     "height": 221
    },
    "colab_type": "code",
    "id": "ho9iozSoDjXN",
    "outputId": "cbe36235-3ead-4306-eb73-ad4de0b83a4d"
   },
   "outputs": [],
   "source": [
    "df.retweet_count.unique"
   ]
  },
  {
   "cell_type": "markdown",
   "metadata": {
    "colab_type": "text",
    "id": "UwICTt3NDj2o"
   },
   "source": [
    "Inference:\n",
    "* It shows the number of times the tweet has been retweeted\n",
    "\n",
    "* The datatype of this column is appropriate, integer"
   ]
  },
  {
   "cell_type": "markdown",
   "metadata": {
    "colab_type": "text",
    "id": "hk7qyLV7Dr7p"
   },
   "source": [
    "Variable 'favorite_count'"
   ]
  },
  {
   "cell_type": "code",
   "execution_count": null,
   "metadata": {
    "colab": {
     "base_uri": "https://localhost:8080/",
     "height": 221
    },
    "colab_type": "code",
    "id": "XRz5hAoGDtwR",
    "outputId": "c317156d-315c-4a50-f43f-3ebc679704db"
   },
   "outputs": [],
   "source": [
    "df.favorite_count.unique"
   ]
  },
  {
   "cell_type": "markdown",
   "metadata": {
    "colab_type": "text",
    "id": "QLJGm7czDuLO"
   },
   "source": [
    "Inference:\n",
    "* It shows the number of times the tweet has been favourited\n",
    "\n",
    "* The datatype of this column is appropriate, integer"
   ]
  },
  {
   "cell_type": "markdown",
   "metadata": {
    "colab_type": "text",
    "id": "NrUbyjMPmPGW"
   },
   "source": [
    "#Cleaning the dataset"
   ]
  },
  {
   "cell_type": "code",
   "execution_count": null,
   "metadata": {
    "colab": {
     "base_uri": "https://localhost:8080/",
     "height": 153
    },
    "colab_type": "code",
    "id": "fjY4Fo3BxUqz",
    "outputId": "955b310e-8758-447d-f785-bd8a195937ea"
   },
   "outputs": [],
   "source": [
    "df.columns"
   ]
  },
  {
   "cell_type": "markdown",
   "metadata": {
    "colab_type": "text",
    "id": "1RrvI47kF1gW"
   },
   "source": [
    "**2) Renaming the column names by displaying their full forms and capitalizing them for better understanding** (Quality Issue)"
   ]
  },
  {
   "cell_type": "code",
   "execution_count": null,
   "metadata": {
    "colab": {
     "base_uri": "https://localhost:8080/",
     "height": 204
    },
    "colab_type": "code",
    "id": "IDTRu47HF8Je",
    "outputId": "793c84ec-f642-4caf-f8bd-4b40489a7e71"
   },
   "outputs": [],
   "source": [
    "df = df.rename(columns={\"tweet_id\":\"Tweet_Id\", \"jpg_url\":\"Jpg_Url\" ,\"img_num\":\"Image_Number\", \"p1\":\"First_Prediction\", \"p1_conf\":\"Confidence_of_First_Prediction\", \"p1_dog\":\"Result_of_First_Prediction\",\"p2\":\"Second_Prediction\", \"p2_conf\":\"Confidence_of_Second_Prediction\", \"p2_dog\":\"Result_of_Second_Prediction\",\"p3\":\"Third_Prediction\", \"p3_conf\":\"Confidence_of_Third_Prediction\", \"p3_dog\":\"Result_of_Third_Prediction\", \"in_reply_to_status_id\":\"Status_Id_of_Reply\", \"in_reply_to_user_id\":\"User_Id_of_Reply\", \"timestamp\":\"Timestamp\", \"source\":\"Source\", \"text\":\"Text\", \"expanded_urls\":\"Urls\", \"rating_numerator\":\"Rating\", \"rating_denominator\":\"Rating_Denominator\", \"name\":\"Name\",\"retweet_count\":\"Number_of_Retweets\", \"favorite_count\":\"Number_of_favourites\" })\n",
    "df.columns"
   ]
  },
  {
   "cell_type": "markdown",
   "metadata": {
    "colab_type": "text",
    "id": "4n9oHsHrRbA0"
   },
   "source": [
    "**3) Removing rows which do not contain breeds of dogs from First_Prediction column** (Quality Issue)"
   ]
  },
  {
   "cell_type": "markdown",
   "metadata": {
    "colab_type": "text",
    "id": "g_EW3xkTScJy"
   },
   "source": [
    "Reading dataset which has all breeds of dogs"
   ]
  },
  {
   "cell_type": "code",
   "execution_count": null,
   "metadata": {
    "colab": {
     "base_uri": "https://localhost:8080/",
     "height": 204
    },
    "colab_type": "code",
    "id": "GcOpRrFzR03W",
    "outputId": "fa81fb95-8cb3-4545-d482-4ac42a439ef9"
   },
   "outputs": [],
   "source": [
    "breed= pd.read_csv(\"breeds.csv\")\n",
    "breed.head()"
   ]
  },
  {
   "cell_type": "code",
   "execution_count": null,
   "metadata": {
    "colab": {
     "base_uri": "https://localhost:8080/",
     "height": 1000
    },
    "colab_type": "code",
    "id": "pp0EZP-8SKXb",
    "outputId": "9b66836f-b978-40d4-db69-2aa083b1a76c"
   },
   "outputs": [],
   "source": [
    "arr=list(breed['breed'])\n",
    "arr"
   ]
  },
  {
   "cell_type": "code",
   "execution_count": null,
   "metadata": {
    "colab": {},
    "colab_type": "code",
    "id": "lTux4BD5SkZ5"
   },
   "outputs": [],
   "source": [
    "df['First_Prediction'] = df['First_Prediction'].str.lower()\n",
    "df = df[df['First_Prediction'].isin(arr)]"
   ]
  },
  {
   "cell_type": "code",
   "execution_count": null,
   "metadata": {
    "colab": {
     "base_uri": "https://localhost:8080/",
     "height": 578
    },
    "colab_type": "code",
    "id": "ycuAt53qTKdR",
    "outputId": "4f7b6b56-382d-43c2-e38f-b26b18eb09ab"
   },
   "outputs": [],
   "source": [
    "df.First_Prediction.unique()"
   ]
  },
  {
   "cell_type": "markdown",
   "metadata": {
    "colab_type": "text",
    "id": "odPPFWtPUNl5"
   },
   "source": [
    "**4) Removing rows which aren't breeds of dogs from Second_Prediction** (Quality Issue)"
   ]
  },
  {
   "cell_type": "code",
   "execution_count": null,
   "metadata": {
    "colab": {},
    "colab_type": "code",
    "id": "Mshytjk0UZIt"
   },
   "outputs": [],
   "source": [
    "df['Second_Prediction'] = df['Second_Prediction'].str.lower()\n",
    "df = df[df['Second_Prediction'].isin(arr)]"
   ]
  },
  {
   "cell_type": "markdown",
   "metadata": {
    "colab_type": "text",
    "id": "qozQOLkRUmYP"
   },
   "source": [
    "**5) Removing rows which aren't breeds of dogs from Third_Prediction** (Quality Isssue)"
   ]
  },
  {
   "cell_type": "code",
   "execution_count": null,
   "metadata": {
    "colab": {},
    "colab_type": "code",
    "id": "sthLx4H_U4kv"
   },
   "outputs": [],
   "source": [
    "df['Third_Prediction'] = df['Third_Prediction'].str.lower()\n",
    "df = df[df['Third_Prediction'].isin(arr)]"
   ]
  },
  {
   "cell_type": "markdown",
   "metadata": {
    "colab_type": "text",
    "id": "AKEuSVDUVXlj"
   },
   "source": [
    "**6) Since only original tweets are required, filtering out tweets which are replies** (Quality Issue)"
   ]
  },
  {
   "cell_type": "code",
   "execution_count": null,
   "metadata": {
    "colab": {},
    "colab_type": "code",
    "id": "Bf8M3MaJVhOi"
   },
   "outputs": [],
   "source": [
    "df=df[df['Status_Id_of_Reply'].isnull()]\n"
   ]
  },
  {
   "cell_type": "markdown",
   "metadata": {
    "colab_type": "text",
    "id": "Hh3ZvXA1Vp_F"
   },
   "source": [
    "**7) Since original tweets are required, filtering out tweets which have numerical values since they imply that those tweets are replies** (Quality Issue)"
   ]
  },
  {
   "cell_type": "code",
   "execution_count": null,
   "metadata": {
    "colab": {},
    "colab_type": "code",
    "id": "_H_xURCtV1ko"
   },
   "outputs": [],
   "source": [
    "df=df[df['User_Id_of_Reply'].isnull()]"
   ]
  },
  {
   "cell_type": "markdown",
   "metadata": {
    "colab_type": "text",
    "id": "mfD5g_29V_re"
   },
   "source": [
    "**8) Since the columns indicating the status and user id of replies are null, dropping those coluns from dataset** (Tidiness Issue)"
   ]
  },
  {
   "cell_type": "code",
   "execution_count": null,
   "metadata": {
    "colab": {},
    "colab_type": "code",
    "id": "8MUaBJ1NWIwn"
   },
   "outputs": [],
   "source": [
    "df = df.drop(['Status_Id_of_Reply', 'User_Id_of_Reply'], axis=1)"
   ]
  },
  {
   "cell_type": "code",
   "execution_count": null,
   "metadata": {
    "colab": {
     "base_uri": "https://localhost:8080/",
     "height": 187
    },
    "colab_type": "code",
    "id": "H2FJxESCswIY",
    "outputId": "5115ab53-f3ce-475d-a8e5-558aec27dd78"
   },
   "outputs": [],
   "source": [
    "df.columns"
   ]
  },
  {
   "cell_type": "markdown",
   "metadata": {
    "colab_type": "text",
    "id": "opY8pFdPW4hv"
   },
   "source": [
    "**9) Changing the datatype of the Timestamp column from oject to datetime** (Quality Issue)"
   ]
  },
  {
   "cell_type": "code",
   "execution_count": null,
   "metadata": {
    "colab": {},
    "colab_type": "code",
    "id": "HnE0GIZeXDh0"
   },
   "outputs": [],
   "source": [
    "df['Timestamp'] = pd.to_datetime(df['Timestamp'])"
   ]
  },
  {
   "cell_type": "code",
   "execution_count": null,
   "metadata": {
    "colab": {
     "base_uri": "https://localhost:8080/",
     "height": 510
    },
    "colab_type": "code",
    "id": "6IN19aWyXmLV",
    "outputId": "d2c0b2ab-6750-4cf8-8156-cb4f7e8099d6"
   },
   "outputs": [],
   "source": [
    "df.dtypes"
   ]
  },
  {
   "cell_type": "markdown",
   "metadata": {
    "colab_type": "text",
    "id": "Yet-wFLbYFJf"
   },
   "source": [
    "**10) According to rating syste of WeRateDogs, the numerator value is always above 10. So dropping rows with lesser values** (Quality Issue)"
   ]
  },
  {
   "cell_type": "code",
   "execution_count": null,
   "metadata": {
    "colab": {
     "base_uri": "https://localhost:8080/",
     "height": 51
    },
    "colab_type": "code",
    "id": "IFPuEdlbYRl5",
    "outputId": "927f8a05-0209-4663-c4b2-685d42c7ed0d"
   },
   "outputs": [],
   "source": [
    "df = df[df['Rating'] >= 10]  \n",
    "df.Rating.unique()"
   ]
  },
  {
   "cell_type": "markdown",
   "metadata": {
    "colab_type": "text",
    "id": "O40u8ZXHYm_p"
   },
   "source": [
    "**11) Removing rows which have denominator other than 10** (Quality Issue)"
   ]
  },
  {
   "cell_type": "code",
   "execution_count": null,
   "metadata": {
    "colab": {
     "base_uri": "https://localhost:8080/",
     "height": 34
    },
    "colab_type": "code",
    "id": "SLhwGtxGYxR2",
    "outputId": "1b6fc9bf-3114-4a7b-98f7-16cc1cc94625"
   },
   "outputs": [],
   "source": [
    "df = df[df['Rating_Denominator'] == 10]  \n",
    "df.Rating_Denominator.unique()"
   ]
  },
  {
   "cell_type": "markdown",
   "metadata": {
    "colab_type": "text",
    "id": "DnnRJfZYZAhh"
   },
   "source": [
    "**12) Since Rating_Denominator doesn't have any unique values, dropping that column from the dataset** (Tidiness Issue)"
   ]
  },
  {
   "cell_type": "code",
   "execution_count": null,
   "metadata": {
    "colab": {},
    "colab_type": "code",
    "id": "ZMCI5RlIZNuH"
   },
   "outputs": [],
   "source": [
    "df = df.drop([\"Rating_Denominator\"], axis=1)"
   ]
  },
  {
   "cell_type": "markdown",
   "metadata": {
    "colab_type": "text",
    "id": "EyXjyD28fh0w"
   },
   "source": [
    "**13) Since retweets are not required, filtering them out by deleting rows there retweet_status_id does not have value 0** (Quality Issue)"
   ]
  },
  {
   "cell_type": "code",
   "execution_count": null,
   "metadata": {
    "colab": {},
    "colab_type": "code",
    "id": "kafFMb0Cyblf"
   },
   "outputs": [],
   "source": [
    "df=df[df['retweeted_status_id'].isnull()]\n"
   ]
  },
  {
   "cell_type": "markdown",
   "metadata": {
    "colab_type": "text",
    "id": "-rxMEBQ2f8Za"
   },
   "source": [
    "**14) Removing rows where column 'retweeted_status_user_id' has non zero value implying that that particular row has a retweet** (Quality Issue)"
   ]
  },
  {
   "cell_type": "code",
   "execution_count": null,
   "metadata": {
    "colab": {
     "base_uri": "https://localhost:8080/",
     "height": 34
    },
    "colab_type": "code",
    "id": "lQhP7Xvk8f1o",
    "outputId": "62b22152-164a-4644-9ad9-828694de19ad"
   },
   "outputs": [],
   "source": [
    "df.retweeted_status_user_id.value_counts()"
   ]
  },
  {
   "cell_type": "markdown",
   "metadata": {
    "colab_type": "text",
    "id": "-LL_AbK6gRbr"
   },
   "source": [
    "**15) Removing rows where column 'retweeted_status_timestamp' has some value eaning that it is a retweet** (Quality Issue)"
   ]
  },
  {
   "cell_type": "code",
   "execution_count": null,
   "metadata": {
    "colab": {
     "base_uri": "https://localhost:8080/",
     "height": 34
    },
    "colab_type": "code",
    "id": "KjQX29SR8wVX",
    "outputId": "d7f9d6df-a708-4026-abb4-f65db64192a0"
   },
   "outputs": [],
   "source": [
    "df.retweeted_status_timestamp.value_counts()"
   ]
  },
  {
   "cell_type": "markdown",
   "metadata": {
    "colab_type": "text",
    "id": "IKSNt6nRggqH"
   },
   "source": [
    "**16) After the cleaning steps above, all columns relating to retweets have null values, so dropping them out** (Tidiness Issue)"
   ]
  },
  {
   "cell_type": "code",
   "execution_count": null,
   "metadata": {
    "colab": {
     "base_uri": "https://localhost:8080/",
     "height": 170
    },
    "colab_type": "code",
    "id": "DGLaH6mT9Wu-",
    "outputId": "af0a9f16-239a-48d1-fc98-23149b515c38"
   },
   "outputs": [],
   "source": [
    "df = df.drop(['retweeted_status_id', 'retweeted_status_user_id','retweeted_status_timestamp'], axis=1)\n",
    "df.columns"
   ]
  },
  {
   "cell_type": "markdown",
   "metadata": {
    "colab_type": "text",
    "id": "P3wINhO8Z4HY"
   },
   "source": [
    "**17) Removing rows with inaccurate dog names** (Quality Issue)"
   ]
  },
  {
   "cell_type": "code",
   "execution_count": null,
   "metadata": {
    "colab": {},
    "colab_type": "code",
    "id": "f-EjtAuyZ97O"
   },
   "outputs": [],
   "source": [
    "df['New_name'] = df.Name.str.capitalize()"
   ]
  },
  {
   "cell_type": "code",
   "execution_count": null,
   "metadata": {
    "colab": {
     "base_uri": "https://localhost:8080/",
     "height": 34
    },
    "colab_type": "code",
    "id": "c0dmqZSUw9Tg",
    "outputId": "b0370c5b-9722-47d7-e9c8-0d588f596ead"
   },
   "outputs": [],
   "source": [
    "df.shape"
   ]
  },
  {
   "cell_type": "code",
   "execution_count": null,
   "metadata": {
    "colab": {},
    "colab_type": "code",
    "id": "bBkrVtXJwikg"
   },
   "outputs": [],
   "source": [
    "df[['Name','New_name']].head()\n",
    "\n",
    "df=df[df['Name']==df['New_name']]"
   ]
  },
  {
   "cell_type": "code",
   "execution_count": null,
   "metadata": {
    "colab": {
     "base_uri": "https://localhost:8080/",
     "height": 34
    },
    "colab_type": "code",
    "id": "EyWXjop7rGHq",
    "outputId": "67854a13-6246-4d0e-e087-40c4bf82ffab"
   },
   "outputs": [],
   "source": [
    "df.drop(['New_name'], axis=1)\n",
    "df.shape"
   ]
  },
  {
   "cell_type": "code",
   "execution_count": null,
   "metadata": {
    "colab": {
     "base_uri": "https://localhost:8080/",
     "height": 1000
    },
    "colab_type": "code",
    "id": "IdfI1x0_sCe7",
    "outputId": "1b13abbf-8fe7-4e3d-9272-5e9360a0e27f"
   },
   "outputs": [],
   "source": [
    "df.Name.unique()"
   ]
  },
  {
   "cell_type": "markdown",
   "metadata": {
    "colab_type": "text",
    "id": "k3zaVcy_hIzi"
   },
   "source": [
    "**18) Replacing the 4 columns indicating the dog's lifecycle with 1 column** (Tidiness Issue)"
   ]
  },
  {
   "cell_type": "code",
   "execution_count": null,
   "metadata": {
    "colab": {},
    "colab_type": "code",
    "id": "Ujb8G5x9PDJF"
   },
   "outputs": [],
   "source": [
    "import numpy as np\n",
    "test = df[['doggo','floofer','pupper', 'puppo'  ]].copy()\n",
    "test['doggo'].replace('None', np.nan, inplace=True)\n",
    "test['floofer'].replace('None', np.nan, inplace=True)\n",
    "test['pupper'].replace('None', np.nan, inplace=True)\n",
    "test['puppo'].replace('None', np.nan, inplace=True)\n"
   ]
  },
  {
   "cell_type": "code",
   "execution_count": null,
   "metadata": {
    "colab": {},
    "colab_type": "code",
    "id": "PWxi7FcNQiNr"
   },
   "outputs": [],
   "source": [
    "y=test.fillna('').sum(1).replace('', np.nan)\n",
    "df['Life_Cycle']= y\n",
    "df= df.drop(['doggo','floofer', 'pupper','puppo'], axis=1)\n"
   ]
  },
  {
   "cell_type": "markdown",
   "metadata": {
    "colab_type": "text",
    "id": "9ryYARrK4Het"
   },
   "source": [
    "#Storing Data"
   ]
  },
  {
   "cell_type": "code",
   "execution_count": null,
   "metadata": {
    "colab": {},
    "colab_type": "code",
    "id": "54BYDoC0hvqY"
   },
   "outputs": [],
   "source": [
    "df.to_csv(\"twitter_archive_master.csv\")"
   ]
  },
  {
   "cell_type": "markdown",
   "metadata": {
    "colab_type": "text",
    "id": "0bxH7DBb5a46"
   },
   "source": [
    "#Analyzing, and Visualizing Data"
   ]
  },
  {
   "cell_type": "code",
   "execution_count": null,
   "metadata": {
    "colab": {
     "base_uri": "https://localhost:8080/",
     "height": 1000
    },
    "colab_type": "code",
    "id": "GMjTFR825mL4",
    "outputId": "0a320079-fa22-478e-8b74-1511aa3a0a5b"
   },
   "outputs": [],
   "source": [
    "\n",
    "graph=df.select_dtypes([\"int64\",\"float64\"])\n",
    "graph.hist(figsize=(16,14))"
   ]
  },
  {
   "cell_type": "markdown",
   "metadata": {
    "colab_type": "text",
    "id": "KuOoKj267SqD"
   },
   "source": [
    "Inference:\n",
    "* The confidence of First Prediction is the highest and has maximum number of values having a confidence of 0.1, that is 100% confidence\n",
    "* Very few values in confidence of First Prediction have values which are on the lesser side, that is, 0\n",
    "* Values are alost equally distributed between 0.3 and 0.9 confidence in the confidence of First Prediction\n",
    "* Maximum number have a confidence of 0, that is 0% in the confidence of the second prediction\n",
    "* In the confidence of the second prediction,, as the confidence keeps on increasing, the number of tweets having that confidence keeps on decreasing\n",
    "* Least number of tweets have a maximum confidence of 0.45 that is 45% in the confidence of second prediction\n",
    "* The confidence of Third Prediction is the lowest as compared to the confidence of the first and the second prediction\n",
    "* The confidence of the Third prediction has maximum confidence of 0.22 i.e. 22% with most number of values having 0 confidence\n",
    "* Very few values having a confidence of 0.22 in the confidence of the third prediction\n",
    "* Most number of tweets have retweets between 0-1000\n",
    "* Very less number of tweets have tweets more than 1000\n",
    "* Maximum retweets received are 5000 retweets\n",
    "* A very high number of tweets are favourited upto 1500 times\n",
    "* Number of tweets favourited above 1500 goes on decreasing\n",
    "* Maximum number of times a tweet is favoutited is 12000\n",
    "* Most of the tweets have a rating of 10-12.5\n",
    "* Very few tweets have a rating above 12.5\n",
    "* The maximum rating received by a tweet on a scale of 10 is 27.5\n",
    "* For most number of tweets, the image number that corresponded to the most confident prediction is image number 1\n",
    "* After image number 1, image number that corresponded to the most confident prediction is image number 2\n",
    "* After image number 2, the image number that corresponded to the most confident prediction is image number 3\n",
    "* The number of tweets for which image number 4 corresponds to the most confident predicition is the least\n"
   ]
  },
  {
   "cell_type": "code",
   "execution_count": null,
   "metadata": {
    "colab": {
     "base_uri": "https://localhost:8080/",
     "height": 341
    },
    "colab_type": "code",
    "id": "yKSaoCwFCrR4",
    "outputId": "285698ba-807e-41a3-d1c7-d7e65b5a710b"
   },
   "outputs": [],
   "source": [
    "import seaborn as sns\n",
    "corr_new=df[['Number_of_favourites','Number_of_Retweets']].corr()\n",
    "sns.heatmap(corr_new,annot=True)\n"
   ]
  },
  {
   "cell_type": "markdown",
   "metadata": {
    "colab_type": "text",
    "id": "sirPxAPiQsmw"
   },
   "source": [
    "Inference:\n",
    "* The number of retweets and the number of favourites have a high correlation\n",
    "* When number of retweets is high, the number of favourites is high\n",
    "* When number of retweets is less, number of favourites is less as well"
   ]
  },
  {
   "cell_type": "code",
   "execution_count": null,
   "metadata": {
    "colab": {},
    "colab_type": "code",
    "id": "qrHY4i6_M8-Z"
   },
   "outputs": [],
   "source": [
    "new_plot  = df[df.Life_Cycle.str.len()<8]"
   ]
  },
  {
   "cell_type": "code",
   "execution_count": null,
   "metadata": {
    "colab": {
     "base_uri": "https://localhost:8080/",
     "height": 308
    },
    "colab_type": "code",
    "id": "gpbQRocDHDBK",
    "outputId": "69879c7d-8a55-4fee-9c87-2ac57e2577f4"
   },
   "outputs": [],
   "source": [
    "new_plot.Life_Cycle.value_counts().plot(kind='bar')"
   ]
  },
  {
   "cell_type": "markdown",
   "metadata": {
    "colab_type": "text",
    "id": "mM10O5KhRudl"
   },
   "source": [
    "Inference:\n",
    "* It shows the lifecycle of the dogs\n",
    "* Most of the dogs have a lifecycle stage of being a of pupper\n",
    "* Few ddogs are in the lifecycle stage of being a of doggo\n",
    "* Very few dogs are in the lifecycle stage of being a puppo\n",
    "*Lease number of dogs are in the lifecycle stage of being a floffer"
   ]
  },
  {
   "cell_type": "code",
   "execution_count": null,
   "metadata": {
    "colab": {
     "base_uri": "https://localhost:8080/",
     "height": 362
    },
    "colab_type": "code",
    "id": "jlTZU_vGN-NG",
    "outputId": "9fe22b0e-caaa-4314-e4cc-d6eb79c374b8"
   },
   "outputs": [],
   "source": [
    "df['First_Prediction'].value_counts().sort_values(ascending=False).head(10).plot(kind='bar')"
   ]
  },
  {
   "cell_type": "markdown",
   "metadata": {
    "colab_type": "text",
    "id": "SLCgiolrS8sF"
   },
   "source": [
    "Inference:\n",
    "* It shows the top 10 breeds that are most likely to be predicted in the First Prediction"
   ]
  },
  {
   "cell_type": "code",
   "execution_count": null,
   "metadata": {
    "colab": {
     "base_uri": "https://localhost:8080/",
     "height": 403
    },
    "colab_type": "code",
    "id": "iiucb_izPu1m",
    "outputId": "d5e0016b-bbf7-4a9c-8560-cdea05bf29c7"
   },
   "outputs": [],
   "source": [
    "df['Second_Prediction'].value_counts().sort_values(ascending=False).head(10).plot(kind='bar')"
   ]
  },
  {
   "cell_type": "markdown",
   "metadata": {
    "colab_type": "text",
    "id": "8d3F8lNiS-aR"
   },
   "source": [
    "Inference:\n",
    "* It shows the top 10 breeds that are most likely to be predicted in the Second Prediction"
   ]
  },
  {
   "cell_type": "code",
   "execution_count": null,
   "metadata": {
    "colab": {
     "base_uri": "https://localhost:8080/",
     "height": 390
    },
    "colab_type": "code",
    "id": "hjcYuPd8P4dI",
    "outputId": "04ffd806-fec2-4006-cca3-9e27153b74a6"
   },
   "outputs": [],
   "source": [
    "df['Third_Prediction'].value_counts().sort_values(ascending=False).head(10).plot(kind='bar')"
   ]
  },
  {
   "cell_type": "markdown",
   "metadata": {
    "colab_type": "text",
    "id": "1JHwlusMTBVI"
   },
   "source": [
    "Inference:\n",
    "* It shows the top 10 breeds that are most likely to be predicted in the Third Prediction"
   ]
  }
 ],
 "metadata": {
  "colab": {
   "collapsed_sections": [
    "jjx6lnSNqtZl"
   ],
   "name": "wrangle_act.ipynb",
   "provenance": [],
   "toc_visible": true
  },
  "kernelspec": {
   "display_name": "Python 3",
   "language": "python",
   "name": "python3"
  },
  "language_info": {
   "codemirror_mode": {
    "name": "ipython",
    "version": 3
   },
   "file_extension": ".py",
   "mimetype": "text/x-python",
   "name": "python",
   "nbconvert_exporter": "python",
   "pygments_lexer": "ipython3",
   "version": "3.7.4"
  }
 },
 "nbformat": 4,
 "nbformat_minor": 1
}
